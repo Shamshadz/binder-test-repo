{
  "nbformat": 4,
  "nbformat_minor": 0,
  "metadata": {
    "colab": {
      "provenance": [],
      "collapsed_sections": [
        "YuwRpDqSX_RO",
        "0bAUyXSuZftb"
      ],
      "toc_visible": true
    },
    "kernelspec": {
      "name": "python3",
      "display_name": "Python 3"
    },
    "language_info": {
      "name": "python"
    }
  },
  "cells": [
    {
      "cell_type": "code",
      "execution_count": null,
      "metadata": {
        "id": "_2q7d8RQXAl8"
      },
      "outputs": [],
      "source": []
    },
    {
      "cell_type": "markdown",
      "source": [
        "# ***Introduction***\n",
        "\n"
      ],
      "metadata": {
        "id": "YuwRpDqSX_RO"
      }
    },
    {
      "cell_type": "markdown",
      "source": [
        "\n",
        "**OpenMP(Open Multi Processing) is An Application Program Interface (API) that may be used to explicitly direct multi-threaded, shared memory parallelism**\n",
        "\n",
        "Goals of OpenMP:\n",
        "\n",
        "\n",
        "1.   Standardization:\n",
        "Provide a standard among a variety of shared memory architectures/platforms\n",
        "Jointly defined and endorsed by a group of major computer hardware and software vendors\n",
        "2.   Lean and Mean:\n",
        "Establish a simple and limited set of directives for programming shared memory machines.\n",
        "Significant parallelism can be implemented by using just 3 or 4 directives.\n",
        "This goal is becoming less meaningful with each new release, apparently.\n",
        "3.   Ease of Use:\n",
        "Provide capability to incrementally parallelize a serial program, unlike message-passing libraries which typically require an all or nothing approach\n",
        "Provide the capability to implement both coarse-grain and fine-grain parallelism\n",
        "4.   Portability:\n",
        "The API is specified for C/C++ and Fortran\n",
        "Public forum for API and membership\n",
        "Most major platforms have been implemented including Unix/Linux platforms and Windows\n",
        "\n",
        "![](https://encyclopedia.pub/media/common/202210/mceclip1-634f75683a964.png)\n",
        "\n",
        "\n",
        "\n",
        "\n",
        "\n",
        "\n",
        "\n"
      ],
      "metadata": {
        "id": "_AFhW5pSXJfA"
      }
    },
    {
      "cell_type": "code",
      "source": [],
      "metadata": {
        "id": "JlqqPB3wXotF"
      },
      "execution_count": null,
      "outputs": []
    },
    {
      "cell_type": "markdown",
      "source": [
        "# ***OpenMP Programming Model***"
      ],
      "metadata": {
        "id": "0bAUyXSuZftb"
      }
    },
    {
      "cell_type": "code",
      "source": [],
      "metadata": {
        "id": "alHMDzbuZqe0"
      },
      "execution_count": null,
      "outputs": []
    },
    {
      "cell_type": "markdown",
      "source": [
        "\n",
        "\n",
        "*   Memory Model : OpenMP is designed for multi-processor/core, shared memory machines.\n",
        "![Image Description](https://hpc-tutorials.llnl.gov/openmp/images/uma.gif)\n",
        "\n",
        "\n",
        "*   Execution Model :\n",
        "\n",
        "\n",
        "1.   Thread Based Parallelism:\n",
        "OpenMP programs accomplish parallelism exclusively through the use of threads. A thread of execution is the smallest unit of processing that can be scheduled by an operating system.\n",
        "2.   Fork - Join Model:\n",
        "OpenMP uses the fork-join model of parallel execution:\n",
        "![](https://hpc-tutorials.llnl.gov/openmp/images/fork_join.gif)\n",
        "\n",
        "FORK: the master thread then creates a team of parallel threads.\n",
        "\n",
        "JOIN: When the team threads complete the statements in the parallel region construct, they synchronize and terminate, leaving only the master thread.\n",
        "\n",
        "\n",
        "\n",
        "\n",
        "\n"
      ],
      "metadata": {
        "id": "FgZn-6JUZsGe"
      }
    },
    {
      "cell_type": "code",
      "source": [],
      "metadata": {
        "id": "IukL3slAaAlF"
      },
      "execution_count": null,
      "outputs": []
    },
    {
      "cell_type": "markdown",
      "source": [
        "# ***First Program : Hello World***"
      ],
      "metadata": {
        "id": "57WEocmwc5h-"
      }
    },
    {
      "cell_type": "code",
      "source": [
        "%%writefile hello_openmp.c\n",
        "#include <omp.h>\n",
        "#include <stdio.h>\n",
        "\n",
        "int main() {\n",
        "    // Set the number of threads explicitly to 8\n",
        "    omp_set_num_threads(8);\n",
        "\n",
        "    // Start parallel region\n",
        "    #pragma omp parallel\n",
        "    {\n",
        "        // Get thread ID\n",
        "        int tid = omp_get_thread_num();\n",
        "\n",
        "        // Print \"Hello, World!\" from each thread\n",
        "        printf(\"Hello, World! from thread %d\\n\", tid);\n",
        "    } // End parallel region\n",
        "\n",
        "    return 0;\n",
        "}\n"
      ],
      "metadata": {
        "colab": {
          "base_uri": "https://localhost:8080/"
        },
        "id": "4Sd_mgaxdG2Q",
        "outputId": "dfd34317-b610-4318-b94b-c392f044a374"
      },
      "execution_count": null,
      "outputs": [
        {
          "output_type": "stream",
          "name": "stdout",
          "text": [
            "Writing hello_openmp.c\n"
          ]
        }
      ]
    },
    {
      "cell_type": "code",
      "source": [
        "!gcc -fopenmp hello_openmp.c\n",
        "!./a.out\n"
      ],
      "metadata": {
        "colab": {
          "base_uri": "https://localhost:8080/"
        },
        "id": "D1b0OEcpdRxo",
        "outputId": "989e3982-00ec-4045-a8fd-788609346084"
      },
      "execution_count": null,
      "outputs": [
        {
          "output_type": "stream",
          "name": "stdout",
          "text": [
            "Hello, World! from thread 2\n",
            "Hello, World! from thread 1\n",
            "Hello, World! from thread 3\n",
            "Hello, World! from thread 0\n",
            "Hello, World! from thread 7\n",
            "Hello, World! from thread 4\n",
            "Hello, World! from thread 5\n",
            "Hello, World! from thread 6\n"
          ]
        }
      ]
    },
    {
      "cell_type": "code",
      "source": [],
      "metadata": {
        "id": "I2T-JR8XeJuE"
      },
      "execution_count": null,
      "outputs": []
    }
  ]
}